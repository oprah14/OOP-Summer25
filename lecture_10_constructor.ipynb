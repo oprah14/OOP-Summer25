{
 "cells": [
  {
   "cell_type": "markdown",
   "id": "0a53f421",
   "metadata": {},
   "source": []
  },
  {
   "cell_type": "markdown",
   "id": "de47283c",
   "metadata": {},
   "source": [
    "## Class with attributes"
   ]
  },
  {
   "cell_type": "code",
   "execution_count": 21,
   "id": "cc1e5264",
   "metadata": {},
   "outputs": [],
   "source": [
    "# We want to have some info about Bike, so we need to add attributes\n",
    "class Bike:\n",
    "    def __init__(self, color, bike_type):\n",
    "        self.color = color\n",
    "        self.bike_type = bike_type"
   ]
  },
  {
   "cell_type": "code",
   "execution_count": 22,
   "id": "221b2f16",
   "metadata": {},
   "outputs": [],
   "source": [
    "bike1 = Bike(\"red\", \"mtb\")"
   ]
  },
  {
   "cell_type": "code",
   "execution_count": 23,
   "id": "c2302725",
   "metadata": {},
   "outputs": [
    {
     "name": "stdout",
     "output_type": "stream",
     "text": [
      "My mtb bike is red\n"
     ]
    }
   ],
   "source": [
    "print(\"My\", bike1.bike_type, \"bike is\", bike1.color, )"
   ]
  },
  {
   "cell_type": "markdown",
   "id": "99d215f5",
   "metadata": {},
   "source": [
    "## What is a constructor?\n",
    "* That is a function in a class which is called when the object is created\n",
    "* it has a name `__init__` \n",
    "* it should take 'self' parameter"
   ]
  },
  {
   "cell_type": "code",
   "execution_count": null,
   "id": "5dedbe16",
   "metadata": {},
   "outputs": [],
   "source": [
    "# Constructor with no params except self\n",
    "class Bike:\n",
    "    def __init__(self):\n",
    "        print('Hello from the constructor')"
   ]
  },
  {
   "cell_type": "code",
   "execution_count": 25,
   "id": "5a5ca92a",
   "metadata": {},
   "outputs": [
    {
     "name": "stdout",
     "output_type": "stream",
     "text": [
      "Hello from the constructor\n"
     ]
    }
   ],
   "source": [
    "bike1 = Bike()"
   ]
  },
  {
   "cell_type": "code",
   "execution_count": null,
   "id": "c863fac4",
   "metadata": {},
   "outputs": [],
   "source": [
    "# a regular method in class\n",
    "class Bike:\n",
    "    "
   ]
  },
  {
   "cell_type": "code",
   "execution_count": 35,
   "id": "b86888f8",
   "metadata": {},
   "outputs": [
    {
     "name": "stdout",
     "output_type": "stream",
     "text": [
      " I am a bike\n"
     ]
    }
   ],
   "source": [
    "bike1 = Bike()\n",
    "bike1.tell_me_something()"
   ]
  },
  {
   "cell_type": "code",
   "execution_count": 39,
   "id": "aa1ad08f",
   "metadata": {},
   "outputs": [],
   "source": [
    "class Car:\n",
    "    # This is a constructor\n",
    "    def __init__(self):\n",
    "        print('Hello from the constructor')\n",
    "\n",
    "    # This is a \"normal\" method\n",
    "    def tell_me_something(self):\n",
    "        print(\" I am a bike\")\n"
   ]
  },
  {
   "cell_type": "code",
   "execution_count": null,
   "id": "9eca88c8",
   "metadata": {},
   "outputs": [
    {
     "name": "stdout",
     "output_type": "stream",
     "text": [
      "Hello from the constructor\n",
      " I am a bike\n"
     ]
    }
   ],
   "source": [
    "my_car = Car() # this creates an object and automatically calls the constructor\n",
    "my_car.tell_me_something() # this calls the method"
   ]
  }
 ],
 "metadata": {
  "kernelspec": {
   "display_name": "Python 3",
   "language": "python",
   "name": "python3"
  },
  "language_info": {
   "codemirror_mode": {
    "name": "ipython",
    "version": 3
   },
   "file_extension": ".py",
   "mimetype": "text/x-python",
   "name": "python",
   "nbconvert_exporter": "python",
   "pygments_lexer": "ipython3",
   "version": "3.12.1"
  }
 },
 "nbformat": 4,
 "nbformat_minor": 5
}
